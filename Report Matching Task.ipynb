{
 "cells": [
  {
   "cell_type": "markdown",
   "id": "98d2d574",
   "metadata": {},
   "source": [
    "## **NeenOpal**\n"
   ]
  },
  {
   "cell_type": "markdown",
   "id": "380ecdeb",
   "metadata": {},
   "source": [
    "### **Author : Ahsan Ahmad Beg**\n"
   ]
  },
  {
   "cell_type": "markdown",
   "id": "de603d57",
   "metadata": {},
   "source": [
    "### **Task - 1 : Record Matching**"
   ]
  },
  {
   "cell_type": "markdown",
   "id": "e452f922",
   "metadata": {},
   "source": [
    "### **Steps**\n",
    "\n",
    "**Step 1)**  Importing Libraries\n",
    "\n",
    "**Step 2)**  Load The DataFrame\n",
    "\n",
    "**Step 3)**  Checking Data\n",
    "\n",
    "**Step 4)**  Show the difference by merging both DataFrames\n",
    "\n",
    "**Step 5)**  Questions\n",
    "\n",
    "\n",
    " \n",
    "**Dataset :-** https://docs.google.com/document/d/1Yz7ehICE1jngUNLE_NPXeXTWcBloFXjFecWhpQjEKOY/edit\n",
    "\n"
   ]
  },
  {
   "cell_type": "markdown",
   "id": "5e2e5bf2",
   "metadata": {},
   "source": [
    "### **Step 1 - Importing Libraries**\n"
   ]
  },
  {
   "cell_type": "code",
   "execution_count": 1,
   "id": "fbdf3115",
   "metadata": {},
   "outputs": [],
   "source": [
    "from pathlib import Path\n",
    "import numpy as np\n",
    "import pandas as pd\n",
    "import xlwings as xl"
   ]
  },
  {
   "cell_type": "markdown",
   "id": "001d0705",
   "metadata": {},
   "source": [
    "### **Step 2 -  Load the DataFrame**\n"
   ]
  },
  {
   "cell_type": "code",
   "execution_count": 2,
   "id": "8ae4f37d",
   "metadata": {},
   "outputs": [
    {
     "data": {
      "text/html": [
       "<div>\n",
       "<style scoped>\n",
       "    .dataframe tbody tr th:only-of-type {\n",
       "        vertical-align: middle;\n",
       "    }\n",
       "\n",
       "    .dataframe tbody tr th {\n",
       "        vertical-align: top;\n",
       "    }\n",
       "\n",
       "    .dataframe thead th {\n",
       "        text-align: right;\n",
       "    }\n",
       "</style>\n",
       "<table border=\"1\" class=\"dataframe\">\n",
       "  <thead>\n",
       "    <tr style=\"text-align: right;\">\n",
       "      <th></th>\n",
       "      <th>Order ID</th>\n",
       "      <th>Product ID</th>\n",
       "      <th>Qty</th>\n",
       "    </tr>\n",
       "  </thead>\n",
       "  <tbody>\n",
       "    <tr>\n",
       "      <th>0</th>\n",
       "      <td>CA-2014-100006</td>\n",
       "      <td>TEC-PH-10002075</td>\n",
       "      <td>3</td>\n",
       "    </tr>\n",
       "    <tr>\n",
       "      <th>1</th>\n",
       "      <td>CA-2014-100090</td>\n",
       "      <td>FUR-TA-10003715</td>\n",
       "      <td>3</td>\n",
       "    </tr>\n",
       "    <tr>\n",
       "      <th>2</th>\n",
       "      <td>CA-2014-100090</td>\n",
       "      <td>OFF-BI-10001597</td>\n",
       "      <td>6</td>\n",
       "    </tr>\n",
       "    <tr>\n",
       "      <th>3</th>\n",
       "      <td>CA-2014-100293</td>\n",
       "      <td>OFF-PA-10000176</td>\n",
       "      <td>6</td>\n",
       "    </tr>\n",
       "    <tr>\n",
       "      <th>4</th>\n",
       "      <td>CA-2014-100328</td>\n",
       "      <td>OFF-BI-10000343</td>\n",
       "      <td>1</td>\n",
       "    </tr>\n",
       "  </tbody>\n",
       "</table>\n",
       "</div>"
      ],
      "text/plain": [
       "         Order ID       Product ID  Qty\n",
       "0  CA-2014-100006  TEC-PH-10002075    3\n",
       "1  CA-2014-100090  FUR-TA-10003715    3\n",
       "2  CA-2014-100090  OFF-BI-10001597    6\n",
       "3  CA-2014-100293  OFF-PA-10000176    6\n",
       "4  CA-2014-100328  OFF-BI-10000343    1"
      ]
     },
     "execution_count": 2,
     "metadata": {},
     "output_type": "execute_result"
    }
   ],
   "source": [
    "df_data1 = pd.read_csv(\"Data/RMT_data1.csv\")\n",
    "df_data1.head(5)"
   ]
  },
  {
   "cell_type": "code",
   "execution_count": 3,
   "id": "739e95d5",
   "metadata": {},
   "outputs": [
    {
     "data": {
      "text/html": [
       "<div>\n",
       "<style scoped>\n",
       "    .dataframe tbody tr th:only-of-type {\n",
       "        vertical-align: middle;\n",
       "    }\n",
       "\n",
       "    .dataframe tbody tr th {\n",
       "        vertical-align: top;\n",
       "    }\n",
       "\n",
       "    .dataframe thead th {\n",
       "        text-align: right;\n",
       "    }\n",
       "</style>\n",
       "<table border=\"1\" class=\"dataframe\">\n",
       "  <thead>\n",
       "    <tr style=\"text-align: right;\">\n",
       "      <th></th>\n",
       "      <th>Order ID</th>\n",
       "      <th>Product ID</th>\n",
       "      <th>Qty</th>\n",
       "    </tr>\n",
       "  </thead>\n",
       "  <tbody>\n",
       "    <tr>\n",
       "      <th>0</th>\n",
       "      <td>CA-2014-100090</td>\n",
       "      <td>FUR-TA-10003715</td>\n",
       "      <td>3</td>\n",
       "    </tr>\n",
       "    <tr>\n",
       "      <th>1</th>\n",
       "      <td>CA-2014-100090</td>\n",
       "      <td>OFF-BI-10001597</td>\n",
       "      <td>6</td>\n",
       "    </tr>\n",
       "    <tr>\n",
       "      <th>2</th>\n",
       "      <td>CA-2014-100293</td>\n",
       "      <td>OFF-PA-10000176</td>\n",
       "      <td>6</td>\n",
       "    </tr>\n",
       "    <tr>\n",
       "      <th>3</th>\n",
       "      <td>CA-2014-100328</td>\n",
       "      <td>OFF-BI-10000343</td>\n",
       "      <td>1</td>\n",
       "    </tr>\n",
       "    <tr>\n",
       "      <th>4</th>\n",
       "      <td>CA-2014-100363</td>\n",
       "      <td>OFF-FA-10000611</td>\n",
       "      <td>2</td>\n",
       "    </tr>\n",
       "  </tbody>\n",
       "</table>\n",
       "</div>"
      ],
      "text/plain": [
       "         Order ID       Product ID  Qty\n",
       "0  CA-2014-100090  FUR-TA-10003715    3\n",
       "1  CA-2014-100090  OFF-BI-10001597    6\n",
       "2  CA-2014-100293  OFF-PA-10000176    6\n",
       "3  CA-2014-100328  OFF-BI-10000343    1\n",
       "4  CA-2014-100363  OFF-FA-10000611    2"
      ]
     },
     "execution_count": 3,
     "metadata": {},
     "output_type": "execute_result"
    }
   ],
   "source": [
    "df_data2 = pd.read_csv(\"Data/RMT_data2.csv\")\n",
    "df_data2.head(5)"
   ]
  },
  {
   "cell_type": "markdown",
   "id": "a10c58e2",
   "metadata": {},
   "source": [
    "### **Step 3 - Check Shape & Data**\n"
   ]
  },
  {
   "cell_type": "code",
   "execution_count": 4,
   "id": "bba1367f",
   "metadata": {},
   "outputs": [
    {
     "data": {
      "text/plain": [
       "(9478, 3)"
      ]
     },
     "execution_count": 4,
     "metadata": {},
     "output_type": "execute_result"
    }
   ],
   "source": [
    "df_data1.shape"
   ]
  },
  {
   "cell_type": "code",
   "execution_count": 5,
   "id": "b5a88295",
   "metadata": {},
   "outputs": [
    {
     "data": {
      "text/plain": [
       "(9479, 3)"
      ]
     },
     "execution_count": 5,
     "metadata": {},
     "output_type": "execute_result"
    }
   ],
   "source": [
    "df_data2.shape"
   ]
  },
  {
   "cell_type": "markdown",
   "id": "58f2be37",
   "metadata": {},
   "source": [
    "### **Step 4 - Show the difference by merging both DataFrames**\n"
   ]
  },
  {
   "cell_type": "code",
   "execution_count": 7,
   "id": "216455e7",
   "metadata": {},
   "outputs": [
    {
     "data": {
      "text/html": [
       "<div>\n",
       "<style scoped>\n",
       "    .dataframe tbody tr th:only-of-type {\n",
       "        vertical-align: middle;\n",
       "    }\n",
       "\n",
       "    .dataframe tbody tr th {\n",
       "        vertical-align: top;\n",
       "    }\n",
       "\n",
       "    .dataframe thead th {\n",
       "        text-align: right;\n",
       "    }\n",
       "</style>\n",
       "<table border=\"1\" class=\"dataframe\">\n",
       "  <thead>\n",
       "    <tr style=\"text-align: right;\">\n",
       "      <th></th>\n",
       "      <th>Order ID</th>\n",
       "      <th>Product ID</th>\n",
       "      <th>Qty_x</th>\n",
       "      <th>Qty_y</th>\n",
       "      <th>Exist</th>\n",
       "    </tr>\n",
       "  </thead>\n",
       "  <tbody>\n",
       "    <tr>\n",
       "      <th>0</th>\n",
       "      <td>CA-2014-100006</td>\n",
       "      <td>TEC-PH-10002075</td>\n",
       "      <td>3.0</td>\n",
       "      <td>NaN</td>\n",
       "      <td>left_only</td>\n",
       "    </tr>\n",
       "    <tr>\n",
       "      <th>1</th>\n",
       "      <td>CA-2014-100090</td>\n",
       "      <td>FUR-TA-10003715</td>\n",
       "      <td>3.0</td>\n",
       "      <td>3.0</td>\n",
       "      <td>both</td>\n",
       "    </tr>\n",
       "    <tr>\n",
       "      <th>2</th>\n",
       "      <td>CA-2014-100090</td>\n",
       "      <td>OFF-BI-10001597</td>\n",
       "      <td>6.0</td>\n",
       "      <td>6.0</td>\n",
       "      <td>both</td>\n",
       "    </tr>\n",
       "    <tr>\n",
       "      <th>3</th>\n",
       "      <td>CA-2014-100293</td>\n",
       "      <td>OFF-PA-10000176</td>\n",
       "      <td>6.0</td>\n",
       "      <td>6.0</td>\n",
       "      <td>both</td>\n",
       "    </tr>\n",
       "    <tr>\n",
       "      <th>4</th>\n",
       "      <td>CA-2014-100328</td>\n",
       "      <td>OFF-BI-10000343</td>\n",
       "      <td>1.0</td>\n",
       "      <td>1.0</td>\n",
       "      <td>both</td>\n",
       "    </tr>\n",
       "    <tr>\n",
       "      <th>...</th>\n",
       "      <td>...</td>\n",
       "      <td>...</td>\n",
       "      <td>...</td>\n",
       "      <td>...</td>\n",
       "      <td>...</td>\n",
       "    </tr>\n",
       "    <tr>\n",
       "      <th>9981</th>\n",
       "      <td>US-2017-165344</td>\n",
       "      <td>OFF-BI-10003196</td>\n",
       "      <td>NaN</td>\n",
       "      <td>10.0</td>\n",
       "      <td>right_only</td>\n",
       "    </tr>\n",
       "    <tr>\n",
       "      <th>9982</th>\n",
       "      <td>US-2017-165358</td>\n",
       "      <td>TEC-CO-10001943</td>\n",
       "      <td>NaN</td>\n",
       "      <td>5.0</td>\n",
       "      <td>right_only</td>\n",
       "    </tr>\n",
       "    <tr>\n",
       "      <th>9983</th>\n",
       "      <td>US-2017-167920</td>\n",
       "      <td>OFF-AP-10000159</td>\n",
       "      <td>NaN</td>\n",
       "      <td>5.0</td>\n",
       "      <td>right_only</td>\n",
       "    </tr>\n",
       "    <tr>\n",
       "      <th>9984</th>\n",
       "      <td>US-2017-169502</td>\n",
       "      <td>OFF-AP-10001947</td>\n",
       "      <td>NaN</td>\n",
       "      <td>5.0</td>\n",
       "      <td>right_only</td>\n",
       "    </tr>\n",
       "    <tr>\n",
       "      <th>9985</th>\n",
       "      <td>US-2017-169551</td>\n",
       "      <td>FUR-BO-10001519</td>\n",
       "      <td>NaN</td>\n",
       "      <td>3.0</td>\n",
       "      <td>right_only</td>\n",
       "    </tr>\n",
       "  </tbody>\n",
       "</table>\n",
       "<p>9986 rows × 5 columns</p>\n",
       "</div>"
      ],
      "text/plain": [
       "            Order ID       Product ID  Qty_x  Qty_y       Exist\n",
       "0     CA-2014-100006  TEC-PH-10002075    3.0    NaN   left_only\n",
       "1     CA-2014-100090  FUR-TA-10003715    3.0    3.0        both\n",
       "2     CA-2014-100090  OFF-BI-10001597    6.0    6.0        both\n",
       "3     CA-2014-100293  OFF-PA-10000176    6.0    6.0        both\n",
       "4     CA-2014-100328  OFF-BI-10000343    1.0    1.0        both\n",
       "...              ...              ...    ...    ...         ...\n",
       "9981  US-2017-165344  OFF-BI-10003196    NaN   10.0  right_only\n",
       "9982  US-2017-165358  TEC-CO-10001943    NaN    5.0  right_only\n",
       "9983  US-2017-167920  OFF-AP-10000159    NaN    5.0  right_only\n",
       "9984  US-2017-169502  OFF-AP-10001947    NaN    5.0  right_only\n",
       "9985  US-2017-169551  FUR-BO-10001519    NaN    3.0  right_only\n",
       "\n",
       "[9986 rows x 5 columns]"
      ]
     },
     "execution_count": 7,
     "metadata": {},
     "output_type": "execute_result"
    }
   ],
   "source": [
    "# Merge the dataframes and add the indicator Column\n",
    "\n",
    "Both_merged = df_data1.merge(df_data2, on = ['Order ID' , 'Product ID'], how = \"outer\",indicator = \"Exist\")\n",
    "Both_merged\n"
   ]
  },
  {
   "cell_type": "code",
   "execution_count": 8,
   "id": "a7e5e972",
   "metadata": {},
   "outputs": [
    {
     "data": {
      "text/html": [
       "<div>\n",
       "<style scoped>\n",
       "    .dataframe tbody tr th:only-of-type {\n",
       "        vertical-align: middle;\n",
       "    }\n",
       "\n",
       "    .dataframe tbody tr th {\n",
       "        vertical-align: top;\n",
       "    }\n",
       "\n",
       "    .dataframe thead th {\n",
       "        text-align: right;\n",
       "    }\n",
       "</style>\n",
       "<table border=\"1\" class=\"dataframe\">\n",
       "  <thead>\n",
       "    <tr style=\"text-align: right;\">\n",
       "      <th></th>\n",
       "      <th>Order ID</th>\n",
       "      <th>Product ID</th>\n",
       "      <th>Qty_x</th>\n",
       "      <th>Qty_y</th>\n",
       "      <th>Exist</th>\n",
       "    </tr>\n",
       "  </thead>\n",
       "  <tbody>\n",
       "    <tr>\n",
       "      <th>0</th>\n",
       "      <td>CA-2014-100006</td>\n",
       "      <td>TEC-PH-10002075</td>\n",
       "      <td>3.0</td>\n",
       "      <td>NaN</td>\n",
       "      <td>left_only</td>\n",
       "    </tr>\n",
       "    <tr>\n",
       "      <th>10</th>\n",
       "      <td>CA-2014-100678</td>\n",
       "      <td>OFF-EN-10000056</td>\n",
       "      <td>3.0</td>\n",
       "      <td>NaN</td>\n",
       "      <td>left_only</td>\n",
       "    </tr>\n",
       "    <tr>\n",
       "      <th>19</th>\n",
       "      <td>CA-2014-100895</td>\n",
       "      <td>OFF-AR-10004511</td>\n",
       "      <td>2.0</td>\n",
       "      <td>NaN</td>\n",
       "      <td>left_only</td>\n",
       "    </tr>\n",
       "    <tr>\n",
       "      <th>35</th>\n",
       "      <td>CA-2014-101560</td>\n",
       "      <td>OFF-BI-10000309</td>\n",
       "      <td>3.0</td>\n",
       "      <td>NaN</td>\n",
       "      <td>left_only</td>\n",
       "    </tr>\n",
       "    <tr>\n",
       "      <th>61</th>\n",
       "      <td>CA-2014-102673</td>\n",
       "      <td>OFF-LA-10001771</td>\n",
       "      <td>12.0</td>\n",
       "      <td>NaN</td>\n",
       "      <td>left_only</td>\n",
       "    </tr>\n",
       "    <tr>\n",
       "      <th>...</th>\n",
       "      <td>...</td>\n",
       "      <td>...</td>\n",
       "      <td>...</td>\n",
       "      <td>...</td>\n",
       "      <td>...</td>\n",
       "    </tr>\n",
       "    <tr>\n",
       "      <th>9981</th>\n",
       "      <td>US-2017-165344</td>\n",
       "      <td>OFF-BI-10003196</td>\n",
       "      <td>NaN</td>\n",
       "      <td>10.0</td>\n",
       "      <td>right_only</td>\n",
       "    </tr>\n",
       "    <tr>\n",
       "      <th>9982</th>\n",
       "      <td>US-2017-165358</td>\n",
       "      <td>TEC-CO-10001943</td>\n",
       "      <td>NaN</td>\n",
       "      <td>5.0</td>\n",
       "      <td>right_only</td>\n",
       "    </tr>\n",
       "    <tr>\n",
       "      <th>9983</th>\n",
       "      <td>US-2017-167920</td>\n",
       "      <td>OFF-AP-10000159</td>\n",
       "      <td>NaN</td>\n",
       "      <td>5.0</td>\n",
       "      <td>right_only</td>\n",
       "    </tr>\n",
       "    <tr>\n",
       "      <th>9984</th>\n",
       "      <td>US-2017-169502</td>\n",
       "      <td>OFF-AP-10001947</td>\n",
       "      <td>NaN</td>\n",
       "      <td>5.0</td>\n",
       "      <td>right_only</td>\n",
       "    </tr>\n",
       "    <tr>\n",
       "      <th>9985</th>\n",
       "      <td>US-2017-169551</td>\n",
       "      <td>FUR-BO-10001519</td>\n",
       "      <td>NaN</td>\n",
       "      <td>3.0</td>\n",
       "      <td>right_only</td>\n",
       "    </tr>\n",
       "  </tbody>\n",
       "</table>\n",
       "<p>1015 rows × 5 columns</p>\n",
       "</div>"
      ],
      "text/plain": [
       "            Order ID       Product ID  Qty_x  Qty_y       Exist\n",
       "0     CA-2014-100006  TEC-PH-10002075    3.0    NaN   left_only\n",
       "10    CA-2014-100678  OFF-EN-10000056    3.0    NaN   left_only\n",
       "19    CA-2014-100895  OFF-AR-10004511    2.0    NaN   left_only\n",
       "35    CA-2014-101560  OFF-BI-10000309    3.0    NaN   left_only\n",
       "61    CA-2014-102673  OFF-LA-10001771   12.0    NaN   left_only\n",
       "...              ...              ...    ...    ...         ...\n",
       "9981  US-2017-165344  OFF-BI-10003196    NaN   10.0  right_only\n",
       "9982  US-2017-165358  TEC-CO-10001943    NaN    5.0  right_only\n",
       "9983  US-2017-167920  OFF-AP-10000159    NaN    5.0  right_only\n",
       "9984  US-2017-169502  OFF-AP-10001947    NaN    5.0  right_only\n",
       "9985  US-2017-169551  FUR-BO-10001519    NaN    3.0  right_only\n",
       "\n",
       "[1015 rows x 5 columns]"
      ]
     },
     "execution_count": 8,
     "metadata": {},
     "output_type": "execute_result"
    }
   ],
   "source": [
    "df_not_in_both = Both_merged.query(\"Exist!= 'both'\")\n",
    "df_not_in_both"
   ]
  },
  {
   "cell_type": "markdown",
   "id": "46778aa0",
   "metadata": {},
   "source": [
    "### **Step 5 - Questions**\n"
   ]
  },
  {
   "cell_type": "markdown",
   "id": "bdfb0643",
   "metadata": {},
   "source": [
    "### Question : 1 - Identify the Records present in data1 but missing in data2 "
   ]
  },
  {
   "cell_type": "code",
   "execution_count": 9,
   "id": "b5d463f4",
   "metadata": {},
   "outputs": [
    {
     "data": {
      "text/html": [
       "<div>\n",
       "<style scoped>\n",
       "    .dataframe tbody tr th:only-of-type {\n",
       "        vertical-align: middle;\n",
       "    }\n",
       "\n",
       "    .dataframe tbody tr th {\n",
       "        vertical-align: top;\n",
       "    }\n",
       "\n",
       "    .dataframe thead th {\n",
       "        text-align: right;\n",
       "    }\n",
       "</style>\n",
       "<table border=\"1\" class=\"dataframe\">\n",
       "  <thead>\n",
       "    <tr style=\"text-align: right;\">\n",
       "      <th></th>\n",
       "      <th>Order ID</th>\n",
       "      <th>Product ID</th>\n",
       "      <th>Qty_x</th>\n",
       "      <th>Qty_y</th>\n",
       "      <th>Exist</th>\n",
       "    </tr>\n",
       "  </thead>\n",
       "  <tbody>\n",
       "    <tr>\n",
       "      <th>0</th>\n",
       "      <td>CA-2014-100006</td>\n",
       "      <td>TEC-PH-10002075</td>\n",
       "      <td>3.0</td>\n",
       "      <td>NaN</td>\n",
       "      <td>left_only</td>\n",
       "    </tr>\n",
       "    <tr>\n",
       "      <th>10</th>\n",
       "      <td>CA-2014-100678</td>\n",
       "      <td>OFF-EN-10000056</td>\n",
       "      <td>3.0</td>\n",
       "      <td>NaN</td>\n",
       "      <td>left_only</td>\n",
       "    </tr>\n",
       "    <tr>\n",
       "      <th>19</th>\n",
       "      <td>CA-2014-100895</td>\n",
       "      <td>OFF-AR-10004511</td>\n",
       "      <td>2.0</td>\n",
       "      <td>NaN</td>\n",
       "      <td>left_only</td>\n",
       "    </tr>\n",
       "    <tr>\n",
       "      <th>35</th>\n",
       "      <td>CA-2014-101560</td>\n",
       "      <td>OFF-BI-10000309</td>\n",
       "      <td>3.0</td>\n",
       "      <td>NaN</td>\n",
       "      <td>left_only</td>\n",
       "    </tr>\n",
       "    <tr>\n",
       "      <th>61</th>\n",
       "      <td>CA-2014-102673</td>\n",
       "      <td>OFF-LA-10001771</td>\n",
       "      <td>12.0</td>\n",
       "      <td>NaN</td>\n",
       "      <td>left_only</td>\n",
       "    </tr>\n",
       "    <tr>\n",
       "      <th>...</th>\n",
       "      <td>...</td>\n",
       "      <td>...</td>\n",
       "      <td>...</td>\n",
       "      <td>...</td>\n",
       "      <td>...</td>\n",
       "    </tr>\n",
       "    <tr>\n",
       "      <th>9390</th>\n",
       "      <td>US-2017-160836</td>\n",
       "      <td>OFF-AP-10001626</td>\n",
       "      <td>2.0</td>\n",
       "      <td>NaN</td>\n",
       "      <td>left_only</td>\n",
       "    </tr>\n",
       "    <tr>\n",
       "      <th>9403</th>\n",
       "      <td>US-2017-162558</td>\n",
       "      <td>FUR-FU-10002364</td>\n",
       "      <td>2.0</td>\n",
       "      <td>NaN</td>\n",
       "      <td>left_only</td>\n",
       "    </tr>\n",
       "    <tr>\n",
       "      <th>9420</th>\n",
       "      <td>US-2017-163657</td>\n",
       "      <td>OFF-BI-10000138</td>\n",
       "      <td>5.0</td>\n",
       "      <td>NaN</td>\n",
       "      <td>left_only</td>\n",
       "    </tr>\n",
       "    <tr>\n",
       "      <th>9427</th>\n",
       "      <td>US-2017-164056</td>\n",
       "      <td>FUR-TA-10001307</td>\n",
       "      <td>5.0</td>\n",
       "      <td>NaN</td>\n",
       "      <td>left_only</td>\n",
       "    </tr>\n",
       "    <tr>\n",
       "      <th>9435</th>\n",
       "      <td>US-2017-165456</td>\n",
       "      <td>FUR-CH-10003981</td>\n",
       "      <td>6.0</td>\n",
       "      <td>NaN</td>\n",
       "      <td>left_only</td>\n",
       "    </tr>\n",
       "  </tbody>\n",
       "</table>\n",
       "<p>507 rows × 5 columns</p>\n",
       "</div>"
      ],
      "text/plain": [
       "            Order ID       Product ID  Qty_x  Qty_y      Exist\n",
       "0     CA-2014-100006  TEC-PH-10002075    3.0    NaN  left_only\n",
       "10    CA-2014-100678  OFF-EN-10000056    3.0    NaN  left_only\n",
       "19    CA-2014-100895  OFF-AR-10004511    2.0    NaN  left_only\n",
       "35    CA-2014-101560  OFF-BI-10000309    3.0    NaN  left_only\n",
       "61    CA-2014-102673  OFF-LA-10001771   12.0    NaN  left_only\n",
       "...              ...              ...    ...    ...        ...\n",
       "9390  US-2017-160836  OFF-AP-10001626    2.0    NaN  left_only\n",
       "9403  US-2017-162558  FUR-FU-10002364    2.0    NaN  left_only\n",
       "9420  US-2017-163657  OFF-BI-10000138    5.0    NaN  left_only\n",
       "9427  US-2017-164056  FUR-TA-10001307    5.0    NaN  left_only\n",
       "9435  US-2017-165456  FUR-CH-10003981    6.0    NaN  left_only\n",
       "\n",
       "[507 rows x 5 columns]"
      ]
     },
     "execution_count": 9,
     "metadata": {},
     "output_type": "execute_result"
    }
   ],
   "source": [
    "\n",
    "df_left = Both_merged.query(\"Exist == 'left_only'\")\n",
    "df_left"
   ]
  },
  {
   "cell_type": "markdown",
   "id": "70c97a43",
   "metadata": {},
   "source": [
    "### Question : 2 - Identify the Records missing in data1 but present in data2 "
   ]
  },
  {
   "cell_type": "code",
   "execution_count": 10,
   "id": "0b023f9b",
   "metadata": {},
   "outputs": [
    {
     "data": {
      "text/html": [
       "<div>\n",
       "<style scoped>\n",
       "    .dataframe tbody tr th:only-of-type {\n",
       "        vertical-align: middle;\n",
       "    }\n",
       "\n",
       "    .dataframe tbody tr th {\n",
       "        vertical-align: top;\n",
       "    }\n",
       "\n",
       "    .dataframe thead th {\n",
       "        text-align: right;\n",
       "    }\n",
       "</style>\n",
       "<table border=\"1\" class=\"dataframe\">\n",
       "  <thead>\n",
       "    <tr style=\"text-align: right;\">\n",
       "      <th></th>\n",
       "      <th>Order ID</th>\n",
       "      <th>Product ID</th>\n",
       "      <th>Qty_x</th>\n",
       "      <th>Qty_y</th>\n",
       "      <th>Exist</th>\n",
       "    </tr>\n",
       "  </thead>\n",
       "  <tbody>\n",
       "    <tr>\n",
       "      <th>9478</th>\n",
       "      <td>CA-2014-100706</td>\n",
       "      <td>TEC-AC-10001314</td>\n",
       "      <td>NaN</td>\n",
       "      <td>2.0</td>\n",
       "      <td>right_only</td>\n",
       "    </tr>\n",
       "    <tr>\n",
       "      <th>9479</th>\n",
       "      <td>CA-2014-100762</td>\n",
       "      <td>OFF-PA-10001815</td>\n",
       "      <td>NaN</td>\n",
       "      <td>3.0</td>\n",
       "      <td>right_only</td>\n",
       "    </tr>\n",
       "    <tr>\n",
       "      <th>9480</th>\n",
       "      <td>CA-2014-101427</td>\n",
       "      <td>OFF-AR-10002257</td>\n",
       "      <td>NaN</td>\n",
       "      <td>3.0</td>\n",
       "      <td>right_only</td>\n",
       "    </tr>\n",
       "    <tr>\n",
       "      <th>9481</th>\n",
       "      <td>CA-2014-102652</td>\n",
       "      <td>FUR-FU-10001918</td>\n",
       "      <td>NaN</td>\n",
       "      <td>7.0</td>\n",
       "      <td>right_only</td>\n",
       "    </tr>\n",
       "    <tr>\n",
       "      <th>9482</th>\n",
       "      <td>CA-2014-102869</td>\n",
       "      <td>OFF-PA-10000788</td>\n",
       "      <td>NaN</td>\n",
       "      <td>3.0</td>\n",
       "      <td>right_only</td>\n",
       "    </tr>\n",
       "    <tr>\n",
       "      <th>...</th>\n",
       "      <td>...</td>\n",
       "      <td>...</td>\n",
       "      <td>...</td>\n",
       "      <td>...</td>\n",
       "      <td>...</td>\n",
       "    </tr>\n",
       "    <tr>\n",
       "      <th>9981</th>\n",
       "      <td>US-2017-165344</td>\n",
       "      <td>OFF-BI-10003196</td>\n",
       "      <td>NaN</td>\n",
       "      <td>10.0</td>\n",
       "      <td>right_only</td>\n",
       "    </tr>\n",
       "    <tr>\n",
       "      <th>9982</th>\n",
       "      <td>US-2017-165358</td>\n",
       "      <td>TEC-CO-10001943</td>\n",
       "      <td>NaN</td>\n",
       "      <td>5.0</td>\n",
       "      <td>right_only</td>\n",
       "    </tr>\n",
       "    <tr>\n",
       "      <th>9983</th>\n",
       "      <td>US-2017-167920</td>\n",
       "      <td>OFF-AP-10000159</td>\n",
       "      <td>NaN</td>\n",
       "      <td>5.0</td>\n",
       "      <td>right_only</td>\n",
       "    </tr>\n",
       "    <tr>\n",
       "      <th>9984</th>\n",
       "      <td>US-2017-169502</td>\n",
       "      <td>OFF-AP-10001947</td>\n",
       "      <td>NaN</td>\n",
       "      <td>5.0</td>\n",
       "      <td>right_only</td>\n",
       "    </tr>\n",
       "    <tr>\n",
       "      <th>9985</th>\n",
       "      <td>US-2017-169551</td>\n",
       "      <td>FUR-BO-10001519</td>\n",
       "      <td>NaN</td>\n",
       "      <td>3.0</td>\n",
       "      <td>right_only</td>\n",
       "    </tr>\n",
       "  </tbody>\n",
       "</table>\n",
       "<p>508 rows × 5 columns</p>\n",
       "</div>"
      ],
      "text/plain": [
       "            Order ID       Product ID  Qty_x  Qty_y       Exist\n",
       "9478  CA-2014-100706  TEC-AC-10001314    NaN    2.0  right_only\n",
       "9479  CA-2014-100762  OFF-PA-10001815    NaN    3.0  right_only\n",
       "9480  CA-2014-101427  OFF-AR-10002257    NaN    3.0  right_only\n",
       "9481  CA-2014-102652  FUR-FU-10001918    NaN    7.0  right_only\n",
       "9482  CA-2014-102869  OFF-PA-10000788    NaN    3.0  right_only\n",
       "...              ...              ...    ...    ...         ...\n",
       "9981  US-2017-165344  OFF-BI-10003196    NaN   10.0  right_only\n",
       "9982  US-2017-165358  TEC-CO-10001943    NaN    5.0  right_only\n",
       "9983  US-2017-167920  OFF-AP-10000159    NaN    5.0  right_only\n",
       "9984  US-2017-169502  OFF-AP-10001947    NaN    5.0  right_only\n",
       "9985  US-2017-169551  FUR-BO-10001519    NaN    3.0  right_only\n",
       "\n",
       "[508 rows x 5 columns]"
      ]
     },
     "execution_count": 10,
     "metadata": {},
     "output_type": "execute_result"
    }
   ],
   "source": [
    "df_right = Both_merged.query(\"Exist == 'right_only'\")\n",
    "df_right"
   ]
  },
  {
   "cell_type": "markdown",
   "id": "6b4d4c89",
   "metadata": {},
   "source": [
    "### Question: 3 - Find Sum of the total Qty of Records missing in data1 but present in data2\n"
   ]
  },
  {
   "cell_type": "code",
   "execution_count": 11,
   "id": "99202988",
   "metadata": {},
   "outputs": [
    {
     "data": {
      "text/plain": [
       "1956.0"
      ]
     },
     "execution_count": 11,
     "metadata": {},
     "output_type": "execute_result"
    }
   ],
   "source": [
    "df_right[\"Qty_y\"].sum()"
   ]
  },
  {
   "cell_type": "markdown",
   "id": "daaa6df8",
   "metadata": {},
   "source": [
    "### Question : 4 - Find the total number of unique records present in the combined dataset of data1 and data2\n"
   ]
  },
  {
   "cell_type": "code",
   "execution_count": 12,
   "id": "9035c284",
   "metadata": {},
   "outputs": [
    {
     "data": {
      "text/plain": [
       "array(['CA-2014-100006', 'CA-2014-100090', 'CA-2014-100293', ...,\n",
       "       'US-2017-169488', 'US-2017-169502', 'US-2017-169551'], dtype=object)"
      ]
     },
     "execution_count": 12,
     "metadata": {},
     "output_type": "execute_result"
    }
   ],
   "source": [
    "unique_records = np.unique(Both_merged[['Order ID', 'Product ID']].values)\n",
    "unique_records"
   ]
  },
  {
   "cell_type": "code",
   "execution_count": 13,
   "id": "1e386fec",
   "metadata": {},
   "outputs": [
    {
     "data": {
      "text/plain": [
       "6871"
      ]
     },
     "execution_count": 13,
     "metadata": {},
     "output_type": "execute_result"
    }
   ],
   "source": [
    "unique_records.size"
   ]
  },
  {
   "cell_type": "code",
   "execution_count": null,
   "id": "2a3ce1b8",
   "metadata": {},
   "outputs": [],
   "source": []
  }
 ],
 "metadata": {
  "kernelspec": {
   "display_name": "Python 3 (ipykernel)",
   "language": "python",
   "name": "python3"
  },
  "language_info": {
   "codemirror_mode": {
    "name": "ipython",
    "version": 3
   },
   "file_extension": ".py",
   "mimetype": "text/x-python",
   "name": "python",
   "nbconvert_exporter": "python",
   "pygments_lexer": "ipython3",
   "version": "3.10.7"
  }
 },
 "nbformat": 4,
 "nbformat_minor": 5
}
